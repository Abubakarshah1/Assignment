{
 "cells": [
  {
   "cell_type": "code",
   "execution_count": 3,
   "metadata": {},
   "outputs": [
    {
     "name": "stdout",
     "output_type": "stream",
     "text": [
      "Welcome to High Low Numbers Game\n",
      "I am thinking of a number between 1 to 100. Can you Guess it?\n",
      "You have 7 guesses left.\n",
      "Guess higher number!\n",
      "You have 6 guesses left.\n",
      "Guess higher number!\n",
      "You have 5 guesses left.\n",
      "Guess higher number!\n",
      "You have 4 guesses left.\n",
      "Guess Lower Number!\n",
      "You have 3 guesses left.\n",
      "Guess Lower Number!\n",
      "You have 2 guesses left.\n",
      "Congratulation ! you guess the number in 5 tries\n"
     ]
    }
   ],
   "source": [
    "# importing random\n",
    "\n",
    "import random \n",
    "\n",
    "# we are going to built a high low game\n",
    "# defining function\n",
    "def high_low_game():\n",
    "    print(\"Welcome to High Low Numbers Game\")\n",
    "\n",
    "\n",
    "    # Creating a variable number to generate random numbers\n",
    "    number = random.randint(1, 100)\n",
    "\n",
    "    # Numbers of guesses yo have \n",
    "    guesses_left = 7\n",
    "    print(\"I am thinking of a number between 1 to 100. Can you Guess it?\")\n",
    "\n",
    "    #Creating a Loop for the Game \n",
    "    while guesses_left > 0 :\n",
    "        print(\"You have\" , guesses_left ,\"guesses left.\")\n",
    "\n",
    "        guess = input(\"What's your guess ?\")\n",
    "\n",
    "        try:\n",
    "            guess=int(guess)\n",
    "        except ValueError:\n",
    "            print(\"That's not a number try again\")\n",
    "            continue\n",
    "\n",
    "    # Check if the guess is high or low or correct\n",
    "        if guess < number:\n",
    "            print(\"Guess higher number!\")\n",
    "        elif guess > number:\n",
    "            print(\"Guess Lower Number!\")\n",
    "        else:\n",
    "            print(\n",
    "                f\"Congratulation ! you guess the number in {7 - guesses_left} tries\"\n",
    "        )\n",
    "            return\n",
    "    \n",
    "        guesses_left -= 1\n",
    "\n",
    "    print(f\"\\nYou ran out of guesses. the number was {number}.\")\n",
    "\n",
    "high_low_game()"
   ]
  }
 ],
 "metadata": {
  "kernelspec": {
   "display_name": "Python 3",
   "language": "python",
   "name": "python3"
  },
  "language_info": {
   "codemirror_mode": {
    "name": "ipython",
    "version": 3
   },
   "file_extension": ".py",
   "mimetype": "text/x-python",
   "name": "python",
   "nbconvert_exporter": "python",
   "pygments_lexer": "ipython3",
   "version": "3.12.5"
  }
 },
 "nbformat": 4,
 "nbformat_minor": 2
}
